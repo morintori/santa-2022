{
 "cells": [
  {
   "cell_type": "code",
   "execution_count": 1,
   "id": "e67e5dd4",
   "metadata": {},
   "outputs": [
    {
     "name": "stderr",
     "output_type": "stream",
     "text": [
      "/tmp/ipykernel_6860/1721827006.py:13: MatplotlibDeprecationWarning: The seaborn styles shipped by Matplotlib are deprecated since 3.6, as they no longer correspond to the styles shipped by seaborn. However, they will remain available as 'seaborn-v0_8-<style>'. Alternatively, directly use the seaborn API instead.\n",
      "  plt.style.use('seaborn-whitegrid')\n"
     ]
    }
   ],
   "source": [
    "import matplotlib.pyplot as plt\n",
    "import matplotlib.ticker as ticker\n",
    "import numpy as np\n",
    "import matplotlib\n",
    "import pandas as pd\n",
    "from functools import *\n",
    "from itertools import *\n",
    "from pathlib import Path\n",
    "from PIL import Image\n",
    "import random\n",
    "import csv\n",
    "from ast import literal_eval\n",
    "plt.style.use('seaborn-whitegrid')\n",
    "import sys\n",
    "from matplotlib import animation\n",
    "np.set_printoptions(threshold = sys.maxsize)\n",
    "from matplotlib.animation import FFMpegWriter\n",
    "from tqdm import tqdm"
   ]
  },
  {
   "cell_type": "code",
   "execution_count": 2,
   "id": "09c69b02",
   "metadata": {},
   "outputs": [],
   "source": [
    "\n",
    "# ensure transforms are inverses\n",
    "# Functions to map between cartesian coordinates and array indexes\n",
    "def cartesian_to_array(x, y, shape):\n",
    "    m, n = shape[:2]\n",
    "    i = (n - 1) // 2 - y\n",
    "    j = (n - 1) // 2 + x\n",
    "    if i < 0 or i >= m or j < 0 or j >= n:\n",
    "        raise ValueError(\"Coordinates not within given dimensions.\")\n",
    "    return i, j\n",
    "\n",
    "\n",
    "def array_to_cartesian(i, j, shape):\n",
    "    m, n = shape[:2]\n",
    "    if i < 0 or i >= m or j < 0 or j >= n:\n",
    "        raise ValueError(\"Coordinates not within given dimensions.\")\n",
    "    y = (n - 1) // 2 - i\n",
    "    x = j - (n - 1) // 2\n",
    "    return x, y\n",
    "\n",
    "\n",
    "point = (1, 8)\n",
    "shape = (9, 9, 3)\n",
    "assert cartesian_to_array(*array_to_cartesian(*point, shape), shape) == point\n",
    "\n",
    "\n",
    "# Functions to map an image between array and record formats\n",
    "def image_to_dict(image):\n",
    "    image = np.atleast_3d(image)\n",
    "    kv_image = {}\n",
    "    for i, j in product(range(len(image)), repeat=2):\n",
    "        kv_image[array_to_cartesian(i, j, image.shape)] = tuple(image[i, j])\n",
    "    return kv_image\n",
    "\n",
    "\n",
    "def image_to_df(image):\n",
    "    return pd.DataFrame(\n",
    "        [(x, y, r, g, b) for (x, y), (r, g, b) in image_to_dict(image).items()],\n",
    "        columns=['x', 'y', 'r', 'g', 'b']\n",
    "    )\n",
    "\n",
    "\n",
    "def df_to_image(df):\n",
    "    side = int(len(df) ** 0.5)  # assumes a square image\n",
    "    return df.set_index(['x', 'y']).to_numpy().reshape(side, side, -1)\n",
    "\n",
    "def get_direction(u, v):\n",
    "    \"\"\"Returns the sign of the angle from u to v.\"\"\"\n",
    "    direction = np.sign(np.cross(u, v))\n",
    "    if direction == 0 and np.dot(u, v) < 0:\n",
    "        direction = 1\n",
    "    return direction\n",
    "\n",
    "\n",
    "# We don't use this elsewhere, but you might find it useful.\"\"\"\n",
    "def get_angle(u, v):\n",
    "    \"\"\"Returns the angle (in degrees) from u to v.\"\"\"\n",
    "    return np.degrees(np.math.atan2(\n",
    "        np.cross(u, v),\n",
    "        np.dot(u, v),\n",
    "    ))\n",
    "\n",
    "# compress a path between two points\n",
    "def compress_path(path):\n",
    "    r = [[] for _ in range(8)]\n",
    "    for p in path:\n",
    "        for i in range(8):\n",
    "            if len(r[i]) == 0 or r[i][-1] != p[i]:\n",
    "                r[i].append(p[i])\n",
    "    mx = max([len(x) for x in r])\n",
    "\n",
    "    for rr in r:\n",
    "        while len(rr) < mx:\n",
    "            rr.append(rr[-1])\n",
    "    r = list(zip(*r))\n",
    "\n",
    "    for i in range(len(r)):\n",
    "        r[i] = list(r[i])\n",
    "\n",
    "    return r\n",
    "\n",
    "def get_path_to_point(config, point):\n",
    "    \"\"\"Find a path of configurations to `point` starting at `config`.\"\"\"\n",
    "    path = [config]\n",
    "    # Rotate each link, starting with the largest, until the point can\n",
    "    # be reached by the remaining links. The last link must reach the\n",
    "    # point itself.\n",
    "    for i in range(len(config)):\n",
    "        link = config[i]\n",
    "        base = get_position(config[:i])\n",
    "        relbase = (point[0] - base[0], point[1] - base[1])\n",
    "        position = get_position(config[:i+1])\n",
    "        relpos = (point[0] - position[0], point[1] - position[1])\n",
    "        radius = reduce(lambda r, link: r + max(abs(link[0]), abs(link[1])), config[i+1:], 0)\n",
    "        # Special case when next-to-last link lands on point.\n",
    "        if radius == 1 and relpos == (0, 0):\n",
    "            config = rotate(config, i, 1)\n",
    "            if get_position(config) == point:  # Thanks @pgeiger\n",
    "                path.append(config)\n",
    "                break\n",
    "            else:\n",
    "                continue\n",
    "        while np.max(np.abs(relpos)) > radius:\n",
    "            direction = get_direction(link, relbase)\n",
    "            config = rotate(config, i, direction)\n",
    "            path.append(config)\n",
    "            link = config[i]\n",
    "            base = get_position(config[:i])\n",
    "            relbase = (point[0] - base[0], point[1] - base[1])\n",
    "            position = get_position(config[:i+1])\n",
    "            relpos = (point[0] - position[0], point[1] - position[1])\n",
    "            radius = reduce(lambda r, link: r + max(abs(link[0]), abs(link[1])), config[i+1:], 0)\n",
    "    assert get_position(path[-1]) == point\n",
    "    path = compress_path(path)\n",
    "    return path\n",
    "\n",
    "def plot_configuration(config, image=None, ax=None, color='0.25', **figure_args):\n",
    "    def get_position(config):\n",
    "        return reduce(lambda p, q: (p[0] + q[0], p[1] + q[1]), config, (0, 0))\n",
    "\n",
    "    if ax is None:\n",
    "        _, ax = plt.subplots(**figure_args)\n",
    "\n",
    "    k = 2 ** (len(config) - 1) + 1\n",
    "    X, Y = (np.vstack([[(0, 0)], np.asarray(config).cumsum(axis=0)])[:-1].T - 0.5)\n",
    "    U, V = np.asarray(config).T\n",
    "    ax.quiver(\n",
    "        X, Y, U, V,\n",
    "        angles='xy', scale_units='xy', scale=1,\n",
    "        color=color,\n",
    "        width=0.005,\n",
    "        zorder=10,\n",
    "    )\n",
    "    point = get_position(config)\n",
    "    ax.plot(point[0]-0.5, point[1]-0.5, '.', color='k', zorder=11)\n",
    "    if image is not None:\n",
    "        ax.matshow(image, extent=[-k-1, k, -k-1, k])\n",
    "    ax.set_xlim(-k-1, k)\n",
    "    ax.set_ylim(-k-1, k)\n",
    "    ax.set_aspect('equal')\n",
    "    ax.set_xticks(np.arange(-k, k+1))\n",
    "    ax.set_yticks(np.arange(-k, k+1))\n",
    "    return ax\n",
    "\n",
    "def get_position(config):\n",
    "    return reduce(lambda p, q: (p[0] + q[0], p[1] + q[1]), config, (0, 0))\n",
    "\n",
    "def rotate_link(vector, direction):\n",
    "    x, y = vector\n",
    "    if direction == 1:  # counter-clockwise\n",
    "        if y >= x and y > -x:\n",
    "            x -= 1\n",
    "        elif y > x and y <= -x:\n",
    "            y -= 1\n",
    "        elif y <= x and y < -x:\n",
    "            x += 1\n",
    "        else:\n",
    "            y += 1\n",
    "    elif direction == -1:  # clockwise\n",
    "        if y > x and y >= -x:\n",
    "            x += 1\n",
    "        elif y >= x and y < -x:\n",
    "            y += 1\n",
    "        elif y < x and y <= -x:\n",
    "            x -= 1\n",
    "        else:\n",
    "            y -= 1\n",
    "    return (x, y)\n",
    "\n",
    "\n",
    "def rotate(config, i, direction):\n",
    "    config = config.copy()\n",
    "    config[i] = rotate_link(config[i], direction)\n",
    "    return config\n",
    "\n",
    "\n",
    "def get_square(link_length):\n",
    "    link = (link_length, 0)\n",
    "    coords = [link]\n",
    "    for _ in range(8 * link_length - 1):\n",
    "        link = rotate_link(link, direction=1)\n",
    "        coords.append(link)\n",
    "    return coords\n",
    "\n",
    "def get_neighbors(config):\n",
    "    nhbrs=[]\n",
    "    for directions in product((-1, 0, 1), repeat=len(config)):\n",
    "        currconfig = reduce(lambda x, y: rotate(x, *y), enumerate(directions), config)\n",
    "        if pix_map[cartesian_to_array(*get_position(currconfig),image.shape)]==1:\n",
    "            continue;\n",
    "        else:    \n",
    "            nhbrs += [(currconfig)]\n",
    "    return list(filter(lambda c: c != config, nhbrs))\n",
    "\n",
    "\n",
    "# Functions to compute the cost function\n",
    "\n",
    "# Cost of reconfiguring the robotic arm: the square root of the number of links rotated\n",
    "def reconfiguration_cost(from_config, to_config):\n",
    "    nlinks = len(from_config)\n",
    "    diffs = np.abs(np.asarray(from_config) - np.asarray(to_config)).sum(axis=1)\n",
    "    return np.sqrt(diffs.sum())\n",
    "\n",
    "\n",
    "# Cost of moving from one color to another: the sum of the absolute change in color components\n",
    "def color_cost(from_position, to_position, image, color_scale=3.0):\n",
    "    return np.abs(image[to_position] - image[from_position]).sum() * color_scale\n",
    "\n",
    "\n",
    "# Total cost of one step: the reconfiguration cost plus the color cost\n",
    "def step_cost(from_config, to_config, image):\n",
    "    from_position = cartesian_to_array(*get_position(from_config), image.shape)\n",
    "    to_position = cartesian_to_array(*get_position(to_config), image.shape)\n",
    "    return (\n",
    "        reconfiguration_cost(from_config, to_config) +\n",
    "        color_cost(from_position, to_position, image)\n",
    "    )"
   ]
  },
  {
   "cell_type": "code",
   "execution_count": 86,
   "id": "2107beab",
   "metadata": {},
   "outputs": [],
   "source": [
    "def compress_path(path):\n",
    "    \n",
    "    if len(path) > 2:\n",
    "        \n",
    "        new_path = []\n",
    "        \n",
    "        max_conf_dist = 1\n",
    "        \n",
    "        r = [[] for _ in range(len(path[0]))]\n",
    "        \n",
    "        for p in path:\n",
    "            for i, c in enumerate(p):\n",
    "\n",
    "                if len(r[i]) == 0 or r[i][-1] != c:\n",
    "                    \n",
    "                    if c not in r[i]:\n",
    "                        r[i].append(c)\n",
    "                    else:\n",
    "                        r[i] = r[i][:r[i].index(c) + 1]\n",
    "                        \n",
    "                    assert r[i][-1] == c\n",
    "        \n",
    "        max_conf_dist = max([len(r_) for r_ in r])\n",
    "        \n",
    "        for i in range(max_conf_dist):\n",
    "            \n",
    "            new_conf = []\n",
    "            \n",
    "            for _, r_ in enumerate(r):\n",
    "                \n",
    "                if i < len(r_):\n",
    "                    c_ = r_[i]\n",
    "                else:\n",
    "                    c_ = r_[-1]\n",
    "                \n",
    "                new_conf.append(c_)\n",
    "            \n",
    "            new_path.append(new_conf)\n",
    "            \n",
    "        return new_path\n",
    "                               \n",
    "        \n",
    "    return path"
   ]
  },
  {
   "cell_type": "code",
   "execution_count": 85,
   "id": "2421e9ee",
   "metadata": {},
   "outputs": [],
   "source": [
    "def get_path_to_configuration(from_config, to_config):\n",
    "    path = [from_config]\n",
    "    config = from_config.copy()\n",
    "    while config != to_config:\n",
    "        for i in range(len(config)):\n",
    "            config = rotate(config, i, get_direction(config[i], to_config[i]))\n",
    "        path.append(config)\n",
    "    assert path[-1] == to_config\n",
    "    path = compress_path(path)\n",
    "    return path"
   ]
  },
  {
   "cell_type": "code",
   "execution_count": 11,
   "id": "a94ebb7f",
   "metadata": {},
   "outputs": [],
   "source": [
    "# Compute total cost of path over image\n",
    "def total_cost(path, image):\n",
    "    return reduce(\n",
    "        lambda cost, pair: cost + step_cost(pair[0], pair[1], image),\n",
    "        zip(path[:-1], path[1:]),\n",
    "        0,\n",
    "    )\n"
   ]
  },
  {
   "cell_type": "code",
   "execution_count": 387,
   "id": "8594bada",
   "metadata": {},
   "outputs": [],
   "source": [
    "def remove_zeros(l):\n",
    "    for ele in reversed(l):\n",
    "        if ele==0 or ele =='':\n",
    "            del l[-1]\n",
    "        else:\n",
    "            break\n",
    "            "
   ]
  },
  {
   "cell_type": "code",
   "execution_count": 20,
   "id": "81aa11ab",
   "metadata": {},
   "outputs": [],
   "source": [
    "df_img = pd.read_csv('image.csv')\n",
    "image = df_to_image(df_img)\n",
    "assert image_to_df(image).equals(df_img) \n",
    "#pix_map = np.zeros((257,257))\n",
    "#pix_map[cartesian_to_array(*get_position(config[-1]),image.shape)] = 1"
   ]
  },
  {
   "cell_type": "code",
   "execution_count": 4,
   "id": "2c0bd2c5",
   "metadata": {},
   "outputs": [
    {
     "name": "stdout",
     "output_type": "stream",
     "text": [
      "1\n",
      "2\n",
      "3\n",
      "4\n",
      "5\n",
      "6\n",
      "7\n",
      "8\n",
      "9\n",
      "10\n",
      "11\n",
      "12\n",
      "13\n",
      "14\n",
      "15\n",
      "16\n"
     ]
    }
   ],
   "source": [
    "confrun = pd.DataFrame()\n",
    "for i in range(1,17):\n",
    "    print(i)\n",
    "    run = pd.read_csv('run'+str(i)+'.csv',header=None)\n",
    "    run = pd.Series(run.values.flatten().tolist())\n",
    "    confrun['Run' +str(i)]=run"
   ]
  },
  {
   "cell_type": "code",
   "execution_count": 5,
   "id": "1338c354",
   "metadata": {},
   "outputs": [],
   "source": [
    "confrun=confrun.applymap(lambda x: literal_eval(x) if pd.notnull(x) else '')"
   ]
  },
  {
   "cell_type": "code",
   "execution_count": 167,
   "id": "3be834fa",
   "metadata": {},
   "outputs": [],
   "source": [
    "confpos = confrun"
   ]
  },
  {
   "cell_type": "code",
   "execution_count": 168,
   "id": "b0369c50",
   "metadata": {},
   "outputs": [],
   "source": [
    "confpos = confpos.applymap(lambda x: cartesian_to_array(*get_position(x),image.shape) if x!=0 else '')"
   ]
  },
  {
   "cell_type": "code",
   "execution_count": 194,
   "id": "2b2d4448",
   "metadata": {},
   "outputs": [],
   "source": [
    "pm_df = pd.DataFrame(0,index=list(product(range(0,257),range(0,257))),columns=confrun.columns)\n",
    "\n",
    "fixed_con=pd.DataFrame()"
   ]
  },
  {
   "cell_type": "code",
   "execution_count": 195,
   "id": "477e64da",
   "metadata": {},
   "outputs": [],
   "source": [
    "pm_df = pd.DataFrame(0,index=list(product(range(0,257),range(0,257))),columns=confrun.columns)\n",
    "for ind,row in confpos.iterrows():\n",
    "    for x in row.index:\n",
    "        pm_df.at[row[x],x] =1\n",
    "        \n",
    "    if ind>len(pm_df):\n",
    "        if (pm_df[pm_df==1].sum()==len(pm_df)).any():\n",
    "            fin_img_run_num = pm_df.columns[pm_df[pm_df==1].sum()==len(pm_df)]\n",
    "            fin_img_run_num = fin_img_run_num.difference(fixed_con.columns)\n",
    "            for run in fin_img_run_num:\n",
    "                fixed_path_seg = pd.Series(get_path_to_configuration(confrun.at[ind,run],confrun.at[0,run])[1:])\n",
    "                fixed_run = pd.Series(pd.concat([confrun.loc[:ind,run],fixed_path_seg]),name=run)\n",
    "                fixed_run.reset_index(inplace=True,drop=True)\n",
    "                fixed_con = pd.concat([fixed_con,fixed_run],axis=1)\n",
    "                "
   ]
  },
  {
   "cell_type": "code",
   "execution_count": 252,
   "id": "a1aa71f3",
   "metadata": {},
   "outputs": [],
   "source": [
    "costs_run = pd.DataFrame()"
   ]
  },
  {
   "cell_type": "code",
   "execution_count": 212,
   "id": "99463335",
   "metadata": {
    "scrolled": true
   },
   "outputs": [],
   "source": [
    "fixed_con=fixed_con.fillna(0)"
   ]
  },
  {
   "cell_type": "code",
   "execution_count": 253,
   "id": "eee4a52b",
   "metadata": {},
   "outputs": [],
   "source": [
    "for label,cont in fixed_con.items():\n",
    "    conlist= cont.values.flatten().tolist()\n",
    "    remove_zeros(conlist)\n",
    "    costs_run = pd.concat(\n",
    "        [costs_run,pd.Series([0] + list(map(lambda x: step_cost(x[0],x[1],image), \n",
    "                zip(conlist[:-1],conlist[1:]))),name=label)],\n",
    "        axis = 1)\n",
    "    \n"
   ]
  },
  {
   "cell_type": "code",
   "execution_count": 275,
   "id": "b2eccdb4",
   "metadata": {},
   "outputs": [],
   "source": [
    "fixed_con.to_csv('fix_runs_1-15.csv')"
   ]
  },
  {
   "cell_type": "code",
   "execution_count": 270,
   "id": "e1fd6d42",
   "metadata": {},
   "outputs": [],
   "source": [
    "cumcosts = pd.DataFrame()\n",
    "\n",
    "cumcosts=costs_run.expanding(1).sum()"
   ]
  },
  {
   "cell_type": "code",
   "execution_count": 272,
   "id": "b949d4f9",
   "metadata": {},
   "outputs": [
    {
     "data": {
      "text/plain": [
       "<AxesSubplot: >"
      ]
     },
     "execution_count": 272,
     "metadata": {},
     "output_type": "execute_result"
    },
    {
     "data": {
      "image/png": "[encoded data removed]",
      "text/plain": [
       "<Figure size 640x480 with 1 Axes>"
      ]
     },
     "metadata": {},
     "output_type": "display_data"
    }
   ],
   "source": [
    "cumcosts.plot.line()"
   ]
  },
  {
   "cell_type": "code",
   "execution_count": 289,
   "id": "7b15df47",
   "metadata": {},
   "outputs": [],
   "source": [
    "npath=fixed_con['Run11'].values.flatten().tolist()"
   ]
  },
  {
   "cell_type": "code",
   "execution_count": 327,
   "id": "bf4e390d",
   "metadata": {},
   "outputs": [],
   "source": [
    "remove_zeros(npath)"
   ]
  },
  {
   "cell_type": "code",
   "execution_count": 328,
   "id": "1026a54d",
   "metadata": {},
   "outputs": [],
   "source": [
    "pp=np.array(npath)"
   ]
  },
  {
   "cell_type": "code",
   "execution_count": 329,
   "id": "bd438520",
   "metadata": {},
   "outputs": [
    {
     "data": {
      "text/plain": [
       "(70021, 8, 2)"
      ]
     },
     "execution_count": 329,
     "metadata": {},
     "output_type": "execute_result"
    }
   ],
   "source": [
    "pp.shape"
   ]
  },
  {
   "cell_type": "code",
   "execution_count": 334,
   "id": "04f4f652",
   "metadata": {},
   "outputs": [
    {
     "data": {
      "text/plain": [
       "array([ 0.25, -1.25])"
      ]
     },
     "execution_count": 334,
     "metadata": {},
     "output_type": "execute_result"
    }
   ],
   "source": [
    "pp[0:4].sum(axis=1).mean(axis=0)"
   ]
  },
  {
   "cell_type": "code",
   "execution_count": 338,
   "id": "75a3022a",
   "metadata": {},
   "outputs": [
    {
     "name": "stdout",
     "output_type": "stream",
     "text": [
      "Cost before local optimization: 84783.41\n",
      "Cost after local optimization: 84732.86 (after 206 2-opt moves)\n",
      "\n",
      "Cost after local optimization: 84729.90 (after 12 2-opt moves)\n",
      "\n",
      "Cost after local optimization: 84729.74 (after 1 2-opt moves)\n",
      "\n",
      "Cost after local optimization: 84698.93 (after 76 2-opt moves)\n"
     ]
    }
   ],
   "source": [
    "print(f'Cost before local optimization: {total_cost(pp, image):.2f}')\n",
    "optimized_path = pp.copy()\n",
    "difference_list = []\n",
    "\n",
    "def optimize():\n",
    "    \"\"\"Optimizes optimized_path\"\"\"\n",
    "    count = 0\n",
    "    for i in range(len(optimized_path) - 3):\n",
    "        current_cost = total_cost(optimized_path[i:i+4], image)\n",
    "        new_cost = total_cost([optimized_path[i], optimized_path[i+2], optimized_path[i+1], optimized_path[i+3]], image)\n",
    "        if new_cost < current_cost:\n",
    "            optimized_path[i+1], optimized_path[i+2] = optimized_path[i+2].copy(), optimized_path[i+1].copy()\n",
    "    #         print(i, current_cost - new_cost)\n",
    "            count += 1\n",
    "            difference_list.append(optimized_path[i:i+4].sum(axis=1).mean(axis=0))\n",
    "    print(f'Cost after local optimization: {total_cost(optimized_path, image):.2f} (after {count} 2-opt moves)')\n",
    "\n",
    "optimize()\n",
    "\n",
    "# Let's do a second pass to be sure we haven't missed any optimization opportunity\n",
    "print()\n",
    "optimize()\n",
    "\n",
    "# And a third pass\n",
    "print()\n",
    "optimize()\n",
    "\n",
    "# Try another 2-opt move\n",
    "print()\n",
    "count = 0\n",
    "for i in range(len(optimized_path) - 4):\n",
    "    current_cost = total_cost([optimized_path[i], optimized_path[i+1]], image)\n",
    "    current_cost += total_cost([optimized_path[i+3], optimized_path[i+4]], image)\n",
    "    new_cost = total_cost([optimized_path[i], optimized_path[i+3]], image)\n",
    "    new_cost += total_cost([optimized_path[i+1], optimized_path[i+4]], image)\n",
    "    if new_cost < current_cost:\n",
    "        optimized_path[i+1], optimized_path[i+3] = optimized_path[i+3].copy(), optimized_path[i+1].copy()\n",
    "#         print(i, current_cost - new_cost)\n",
    "        count += 1\n",
    "        difference_list.append(optimized_path[i:i+5].sum(axis=1).mean(axis=0))\n",
    "print(f'Cost after local optimization: {total_cost(optimized_path, image):.2f} (after {count} 2-opt moves)')"
   ]
  },
  {
   "cell_type": "code",
   "execution_count": 394,
   "id": "f22353f2",
   "metadata": {},
   "outputs": [
    {
     "name": "stdout",
     "output_type": "stream",
     "text": [
      "Cost after local optimization: 84690.66 (after 9 2-opt moves)\n",
      "Cost after local optimization: 84690.05 (after 3 2-opt moves)\n",
      "Cost after local optimization: 84690.05 (after 83 2-opt moves)\n"
     ]
    }
   ],
   "source": [
    "optimize()\n",
    "optimize()\n",
    "for i in range(len(optimized_path) - 4):\n",
    "    current_cost = total_cost([optimized_path[i], optimized_path[i+1]], image)\n",
    "    current_cost += total_cost([optimized_path[i+3], optimized_path[i+4]], image)\n",
    "    new_cost = total_cost([optimized_path[i], optimized_path[i+3]], image)\n",
    "    new_cost += total_cost([optimized_path[i+1], optimized_path[i+4]], image)\n",
    "    if new_cost < current_cost:\n",
    "        optimized_path[i+1], optimized_path[i+3] = optimized_path[i+3].copy(), optimized_path[i+1].copy()\n",
    "#         print(i, current_cost - new_cost)\n",
    "        count += 1\n",
    "        difference_list.append(optimized_path[i:i+5].sum(axis=1).mean(axis=0))\n",
    "print(f'Cost after local optimization: {total_cost(optimized_path, image):.2f} (after {count} 2-opt moves)')"
   ]
  },
  {
   "cell_type": "code",
   "execution_count": 10,
   "id": "5dc230d5",
   "metadata": {},
   "outputs": [],
   "source": [
    "fixed_con = pd.read_csv('fix_runs_1-15.csv')"
   ]
  },
  {
   "cell_type": "code",
   "execution_count": 2,
   "id": "fa1d36b4",
   "metadata": {},
   "outputs": [],
   "source": [
    "from glob import glob"
   ]
  },
  {
   "cell_type": "code",
   "execution_count": 3,
   "id": "94b967f3",
   "metadata": {},
   "outputs": [],
   "source": [
    "file = glob('2023*.csv')"
   ]
  },
  {
   "cell_type": "code",
   "execution_count": 4,
   "id": "9d4dbc49",
   "metadata": {},
   "outputs": [],
   "source": [
    "dd = pd.read_csv(file[0],header=None)"
   ]
  },
  {
   "cell_type": "code",
   "execution_count": 5,
   "id": "88e2bd7c",
   "metadata": {},
   "outputs": [],
   "source": [
    "moreruns = pd.DataFrame()"
   ]
  },
  {
   "cell_type": "code",
   "execution_count": 6,
   "id": "3aceab4b",
   "metadata": {},
   "outputs": [],
   "source": [
    "runnum=17"
   ]
  },
  {
   "cell_type": "code",
   "execution_count": 13,
   "id": "7acfb3c0",
   "metadata": {},
   "outputs": [],
   "source": [
    "for f in file:\n",
    "    dd=pd.read_csv(f,header=None,names = ['Run'+str(runnum)])\n",
    "    moreruns = pd.concat([moreruns,dd],axis=1)\n",
    "    runnum+=1\n",
    "\n",
    "fixed_con = pd.concat([fixed_con,moreruns],axis=1)"
   ]
  },
  {
   "cell_type": "code",
   "execution_count": 15,
   "id": "c380a0c5",
   "metadata": {},
   "outputs": [],
   "source": [
    "fixed_con.to_csv('runs_1-25.csv')"
   ]
  },
  {
   "cell_type": "code",
   "execution_count": 355,
   "id": "20489583",
   "metadata": {},
   "outputs": [],
   "source": [
    "fixed_con=fixed_con.fillna(0)"
   ]
  },
  {
   "cell_type": "code",
   "execution_count": 388,
   "id": "562b5612",
   "metadata": {},
   "outputs": [],
   "source": [
    "tot_costs=pd.DataFrame()"
   ]
  },
  {
   "cell_type": "code",
   "execution_count": 381,
   "id": "e54205ee",
   "metadata": {},
   "outputs": [],
   "source": [
    "fixed_con.iloc[:,16:]=fixed_con.iloc[:,16:].applymap(lambda x: literal_eval(x) if x!=0 else '0')"
   ]
  },
  {
   "cell_type": "code",
   "execution_count": 389,
   "id": "56ef313d",
   "metadata": {},
   "outputs": [],
   "source": [
    "for label,cont in fixed_con.items():\n",
    "    conlist= cont.values.flatten().tolist()\n",
    "    remove_zeros(conlist)    \n",
    "    tot_costs[label] = pd.Series(total_cost(conlist,image))"
   ]
  },
  {
   "cell_type": "code",
   "execution_count": 403,
   "id": "f406b9e1",
   "metadata": {},
   "outputs": [
    {
     "name": "stdout",
     "output_type": "stream",
     "text": [
      "0    Run19\n",
      "dtype: object 0    84755.272257\n",
      "dtype: float64\n"
     ]
    }
   ],
   "source": [
    "print(tot_costs.idxmin(axis=1),tot_costs.min(axis=1))"
   ]
  },
  {
   "cell_type": "code",
   "execution_count": 5,
   "id": "2b4d0abe",
   "metadata": {},
   "outputs": [],
   "source": [
    "xx= pd.read_csv('test1.csv')"
   ]
  },
  {
   "cell_type": "code",
   "execution_count": null,
   "id": "1da61852",
   "metadata": {},
   "outputs": [],
   "source": [
    "def str_to_config(config):\n",
    "    return ';'.join([' '.join(map(str, vector)) for vector in config])"
   ]
  },
  {
   "cell_type": "code",
   "execution_count": 17,
   "id": "5513d936",
   "metadata": {},
   "outputs": [],
   "source": [
    "config_run=[]\n",
    "for key,value in xx.items():\n",
    "    for x in value:\n",
    "        b= x.split(';')\n",
    "\n",
    "        config1=[]\n",
    "        for d in b:\n",
    "            dd=d.split(' ')\n",
    "\n",
    "            config1.append((int(dd[0]),int(dd[1])))\n",
    "            \n",
    "        config_run.append(config1)\n",
    "        "
   ]
  },
  {
   "cell_type": "code",
   "execution_count": 25,
   "id": "51a2db03",
   "metadata": {},
   "outputs": [],
   "source": [
    "config = [[(64, 0), (-32, 0), (-16, 0), (-8, 0), (-4, 0), (-2, 0), (-1, 0), (-1, 0)]]\n",
    "for i in range(1,65):\n",
    "    config.append([(64, i), (-32, 0), (-16, 0), (-8, 0), (-4, 0), (-2, 0), (-1, 0), (-1, 0)])"
   ]
  },
  {
   "cell_type": "code",
   "execution_count": 26,
   "id": "fd259e23",
   "metadata": {},
   "outputs": [
    {
     "data": {
      "text/plain": [
       "[[(64, 0), (-32, 0), (-16, 0), (-8, 0), (-4, 0), (-2, 0), (-1, 0), (-1, 0)],\n",
       " [(64, 1), (-32, 0), (-16, 0), (-8, 0), (-4, 0), (-2, 0), (-1, 0), (-1, 0)],\n",
       " [(64, 2), (-32, 0), (-16, 0), (-8, 0), (-4, 0), (-2, 0), (-1, 0), (-1, 0)],\n",
       " [(64, 3), (-32, 0), (-16, 0), (-8, 0), (-4, 0), (-2, 0), (-1, 0), (-1, 0)],\n",
       " [(64, 4), (-32, 0), (-16, 0), (-8, 0), (-4, 0), (-2, 0), (-1, 0), (-1, 0)],\n",
       " [(64, 5), (-32, 0), (-16, 0), (-8, 0), (-4, 0), (-2, 0), (-1, 0), (-1, 0)],\n",
       " [(64, 6), (-32, 0), (-16, 0), (-8, 0), (-4, 0), (-2, 0), (-1, 0), (-1, 0)],\n",
       " [(64, 7), (-32, 0), (-16, 0), (-8, 0), (-4, 0), (-2, 0), (-1, 0), (-1, 0)],\n",
       " [(64, 8), (-32, 0), (-16, 0), (-8, 0), (-4, 0), (-2, 0), (-1, 0), (-1, 0)],\n",
       " [(64, 9), (-32, 0), (-16, 0), (-8, 0), (-4, 0), (-2, 0), (-1, 0), (-1, 0)],\n",
       " [(64, 10), (-32, 0), (-16, 0), (-8, 0), (-4, 0), (-2, 0), (-1, 0), (-1, 0)],\n",
       " [(64, 11), (-32, 0), (-16, 0), (-8, 0), (-4, 0), (-2, 0), (-1, 0), (-1, 0)],\n",
       " [(64, 12), (-32, 0), (-16, 0), (-8, 0), (-4, 0), (-2, 0), (-1, 0), (-1, 0)],\n",
       " [(64, 13), (-32, 0), (-16, 0), (-8, 0), (-4, 0), (-2, 0), (-1, 0), (-1, 0)],\n",
       " [(64, 14), (-32, 0), (-16, 0), (-8, 0), (-4, 0), (-2, 0), (-1, 0), (-1, 0)],\n",
       " [(64, 15), (-32, 0), (-16, 0), (-8, 0), (-4, 0), (-2, 0), (-1, 0), (-1, 0)],\n",
       " [(64, 16), (-32, 0), (-16, 0), (-8, 0), (-4, 0), (-2, 0), (-1, 0), (-1, 0)],\n",
       " [(64, 17), (-32, 0), (-16, 0), (-8, 0), (-4, 0), (-2, 0), (-1, 0), (-1, 0)],\n",
       " [(64, 18), (-32, 0), (-16, 0), (-8, 0), (-4, 0), (-2, 0), (-1, 0), (-1, 0)],\n",
       " [(64, 19), (-32, 0), (-16, 0), (-8, 0), (-4, 0), (-2, 0), (-1, 0), (-1, 0)],\n",
       " [(64, 20), (-32, 0), (-16, 0), (-8, 0), (-4, 0), (-2, 0), (-1, 0), (-1, 0)],\n",
       " [(64, 21), (-32, 0), (-16, 0), (-8, 0), (-4, 0), (-2, 0), (-1, 0), (-1, 0)],\n",
       " [(64, 22), (-32, 0), (-16, 0), (-8, 0), (-4, 0), (-2, 0), (-1, 0), (-1, 0)],\n",
       " [(64, 23), (-32, 0), (-16, 0), (-8, 0), (-4, 0), (-2, 0), (-1, 0), (-1, 0)],\n",
       " [(64, 24), (-32, 0), (-16, 0), (-8, 0), (-4, 0), (-2, 0), (-1, 0), (-1, 0)],\n",
       " [(64, 25), (-32, 0), (-16, 0), (-8, 0), (-4, 0), (-2, 0), (-1, 0), (-1, 0)],\n",
       " [(64, 26), (-32, 0), (-16, 0), (-8, 0), (-4, 0), (-2, 0), (-1, 0), (-1, 0)],\n",
       " [(64, 27), (-32, 0), (-16, 0), (-8, 0), (-4, 0), (-2, 0), (-1, 0), (-1, 0)],\n",
       " [(64, 28), (-32, 0), (-16, 0), (-8, 0), (-4, 0), (-2, 0), (-1, 0), (-1, 0)],\n",
       " [(64, 29), (-32, 0), (-16, 0), (-8, 0), (-4, 0), (-2, 0), (-1, 0), (-1, 0)],\n",
       " [(64, 30), (-32, 0), (-16, 0), (-8, 0), (-4, 0), (-2, 0), (-1, 0), (-1, 0)],\n",
       " [(64, 31), (-32, 0), (-16, 0), (-8, 0), (-4, 0), (-2, 0), (-1, 0), (-1, 0)],\n",
       " [(64, 32), (-32, 0), (-16, 0), (-8, 0), (-4, 0), (-2, 0), (-1, 0), (-1, 0)],\n",
       " [(64, 33), (-32, 0), (-16, 0), (-8, 0), (-4, 0), (-2, 0), (-1, 0), (-1, 0)],\n",
       " [(64, 34), (-32, 0), (-16, 0), (-8, 0), (-4, 0), (-2, 0), (-1, 0), (-1, 0)],\n",
       " [(64, 35), (-32, 0), (-16, 0), (-8, 0), (-4, 0), (-2, 0), (-1, 0), (-1, 0)],\n",
       " [(64, 36), (-32, 0), (-16, 0), (-8, 0), (-4, 0), (-2, 0), (-1, 0), (-1, 0)],\n",
       " [(64, 37), (-32, 0), (-16, 0), (-8, 0), (-4, 0), (-2, 0), (-1, 0), (-1, 0)],\n",
       " [(64, 38), (-32, 0), (-16, 0), (-8, 0), (-4, 0), (-2, 0), (-1, 0), (-1, 0)],\n",
       " [(64, 39), (-32, 0), (-16, 0), (-8, 0), (-4, 0), (-2, 0), (-1, 0), (-1, 0)],\n",
       " [(64, 40), (-32, 0), (-16, 0), (-8, 0), (-4, 0), (-2, 0), (-1, 0), (-1, 0)],\n",
       " [(64, 41), (-32, 0), (-16, 0), (-8, 0), (-4, 0), (-2, 0), (-1, 0), (-1, 0)],\n",
       " [(64, 42), (-32, 0), (-16, 0), (-8, 0), (-4, 0), (-2, 0), (-1, 0), (-1, 0)],\n",
       " [(64, 43), (-32, 0), (-16, 0), (-8, 0), (-4, 0), (-2, 0), (-1, 0), (-1, 0)],\n",
       " [(64, 44), (-32, 0), (-16, 0), (-8, 0), (-4, 0), (-2, 0), (-1, 0), (-1, 0)],\n",
       " [(64, 45), (-32, 0), (-16, 0), (-8, 0), (-4, 0), (-2, 0), (-1, 0), (-1, 0)],\n",
       " [(64, 46), (-32, 0), (-16, 0), (-8, 0), (-4, 0), (-2, 0), (-1, 0), (-1, 0)],\n",
       " [(64, 47), (-32, 0), (-16, 0), (-8, 0), (-4, 0), (-2, 0), (-1, 0), (-1, 0)],\n",
       " [(64, 48), (-32, 0), (-16, 0), (-8, 0), (-4, 0), (-2, 0), (-1, 0), (-1, 0)],\n",
       " [(64, 49), (-32, 0), (-16, 0), (-8, 0), (-4, 0), (-2, 0), (-1, 0), (-1, 0)],\n",
       " [(64, 50), (-32, 0), (-16, 0), (-8, 0), (-4, 0), (-2, 0), (-1, 0), (-1, 0)],\n",
       " [(64, 51), (-32, 0), (-16, 0), (-8, 0), (-4, 0), (-2, 0), (-1, 0), (-1, 0)],\n",
       " [(64, 52), (-32, 0), (-16, 0), (-8, 0), (-4, 0), (-2, 0), (-1, 0), (-1, 0)],\n",
       " [(64, 53), (-32, 0), (-16, 0), (-8, 0), (-4, 0), (-2, 0), (-1, 0), (-1, 0)],\n",
       " [(64, 54), (-32, 0), (-16, 0), (-8, 0), (-4, 0), (-2, 0), (-1, 0), (-1, 0)],\n",
       " [(64, 55), (-32, 0), (-16, 0), (-8, 0), (-4, 0), (-2, 0), (-1, 0), (-1, 0)],\n",
       " [(64, 56), (-32, 0), (-16, 0), (-8, 0), (-4, 0), (-2, 0), (-1, 0), (-1, 0)],\n",
       " [(64, 57), (-32, 0), (-16, 0), (-8, 0), (-4, 0), (-2, 0), (-1, 0), (-1, 0)],\n",
       " [(64, 58), (-32, 0), (-16, 0), (-8, 0), (-4, 0), (-2, 0), (-1, 0), (-1, 0)],\n",
       " [(64, 59), (-32, 0), (-16, 0), (-8, 0), (-4, 0), (-2, 0), (-1, 0), (-1, 0)],\n",
       " [(64, 60), (-32, 0), (-16, 0), (-8, 0), (-4, 0), (-2, 0), (-1, 0), (-1, 0)],\n",
       " [(64, 61), (-32, 0), (-16, 0), (-8, 0), (-4, 0), (-2, 0), (-1, 0), (-1, 0)],\n",
       " [(64, 62), (-32, 0), (-16, 0), (-8, 0), (-4, 0), (-2, 0), (-1, 0), (-1, 0)],\n",
       " [(64, 63), (-32, 0), (-16, 0), (-8, 0), (-4, 0), (-2, 0), (-1, 0), (-1, 0)],\n",
       " [(64, 64), (-32, 0), (-16, 0), (-8, 0), (-4, 0), (-2, 0), (-1, 0), (-1, 0)]]"
      ]
     },
     "execution_count": 26,
     "metadata": {},
     "output_type": "execute_result"
    }
   ],
   "source": [
    "config"
   ]
  },
  {
   "cell_type": "code",
   "execution_count": 27,
   "id": "cf866612",
   "metadata": {},
   "outputs": [],
   "source": [
    "matplotlib.use(\"Agg\")\n",
    "\n",
    "path=config\n",
    "img = np.zeros(image.shape)\n",
    "\n",
    "pm = np.zeros(image.shape[:2])\n",
    "k = 2 ** (len(path[0]) - 1) + 1\n",
    "\n",
    "\n",
    "metadata=dict(title = 'Path',artist='Morin')\n",
    "writer = FFMpegWriter(fps=300,metadata=metadata)\n",
    "fig, ax = plt.subplots(figsize=(50, 50)) \n",
    "\n",
    "\n",
    "\n",
    "    \n",
    "with writer.saving(fig,'path2.mp4',20):\n",
    "    for i in path:\n",
    "\n",
    "\n",
    "        ax.set_aspect('equal')\n",
    "        ax.set_xlim(-k-1, k)\n",
    "        ax.set_ylim(-k-1, k)\n",
    "\n",
    "        ax.set_xticks(np.arange(-k, k+1))\n",
    "        ax.set_yticks(np.arange(-k, k+1))\n",
    "        ax.set_title(i)\n",
    "\n",
    "        X, Y = (np.vstack([[(0, 0)], np.asarray(i).cumsum(axis=0)])[:-1].T - 0.5)\n",
    "        U, V = np.asarray(i).T\n",
    "        Q=ax.quiver(\n",
    "            X, Y, U, V,\n",
    "            angles='xy', scale_units='xy', scale=1,\n",
    "            color='0.25',\n",
    "            width=0.005,\n",
    "            zorder=10,\n",
    "        )\n",
    "        point = get_position(i)\n",
    "        ax.plot(point[0]-0.5, point[1]-0.5, '.', color='k', zorder=11)\n",
    "        curr_pos = cartesian_to_array(*get_position(i),image.shape)\n",
    "        pm[curr_pos] = 1\n",
    "\n",
    "        for x in range(3):\n",
    "            img[:,:,x]=image[:,:,x]*pm\n",
    "\n",
    "        ax.matshow(img, extent=[-k-1, k, -k-1, k],animated=True)\n",
    "        \n",
    "        writer.grab_frame()\n",
    "        ax.clear()\n",
    "\n"
   ]
  },
  {
   "cell_type": "code",
   "execution_count": 64,
   "id": "6e94b198",
   "metadata": {},
   "outputs": [],
   "source": [
    "for x in range(3):\n",
    "    img[:,:,x]=image[:,:,x]*pm"
   ]
  },
  {
   "cell_type": "code",
   "execution_count": 58,
   "id": "075f3152",
   "metadata": {},
   "outputs": [
    {
     "data": {
      "text/plain": [
       "(257, 257, 3)"
      ]
     },
     "execution_count": 58,
     "metadata": {},
     "output_type": "execute_result"
    }
   ],
   "source": [
    "image.shape"
   ]
  },
  {
   "cell_type": "code",
   "execution_count": 59,
   "id": "627302cc",
   "metadata": {},
   "outputs": [],
   "source": [
    "img = np.zeros(image.shape)"
   ]
  },
  {
   "cell_type": "code",
   "execution_count": 60,
   "id": "d4fa3d94",
   "metadata": {},
   "outputs": [
    {
     "data": {
      "text/plain": [
       "(257, 257, 3)"
      ]
     },
     "execution_count": 60,
     "metadata": {},
     "output_type": "execute_result"
    }
   ],
   "source": [
    "img.shape"
   ]
  },
  {
   "cell_type": "code",
   "execution_count": 53,
   "id": "dc0c49bc",
   "metadata": {},
   "outputs": [
    {
     "data": {
      "text/plain": [
       "<matplotlib.image.AxesImage at 0x7f65a9e65840>"
      ]
     },
     "execution_count": 53,
     "metadata": {},
     "output_type": "execute_result"
    },
    {
     "data": {
      "image/png": "[encoded data removed]",
      "text/plain": [
       "<Figure size 480x480 with 1 Axes>"
      ]
     },
     "metadata": {},
     "output_type": "display_data"
    }
   ],
   "source": [
    "%matplotlib inline\n",
    "plt.matshow(image)"
   ]
  },
  {
   "cell_type": "code",
   "execution_count": null,
   "id": "1fa65c0c",
   "metadata": {},
   "outputs": [],
   "source": [
    "# matplotlib.use(\"Agg\")\n",
    "# path=config_run\n",
    "\n",
    "# fig, ax = plt.subplots(figsize=(50, 50)) \n",
    "# img = image\n",
    "\n",
    "# pm = np.zeros(image.shape[:2])\n",
    "# k = 2 ** (len(path[0]) - 1) + 1\n",
    "\n",
    "\n",
    "\n",
    "# def update(n):\n",
    "\n",
    "#     ax.clear()\n",
    "#     ax.set_xlim(-k-1, k)\n",
    "#     ax.set_ylim(-k-1, k)\n",
    "#     ax.set_aspect('equal')\n",
    "#     ax.set_xticks(np.arange(-k, k+1))\n",
    "#     ax.set_yticks(np.arange(-k, k+1))\n",
    "#     X, Y = (np.vstack([[(0, 0)], np.asarray(path[n]).cumsum(axis=0)])[:-1].T - 0.5)\n",
    "#     U, V = np.asarray(path[n]).T\n",
    "#     Q=ax.quiver(\n",
    "#         X, Y, U, V,\n",
    "#         angles='xy', scale_units='xy', scale=1,\n",
    "#         color='0.25',\n",
    "#         width=0.005,\n",
    "#         zorder=10,\n",
    "#     )\n",
    "#     point = get_position(path[n])\n",
    "#     ax.plot(point[0]-0.5, point[1]-0.5, '.', color='k', zorder=11)\n",
    "#     curr_pos = cartesian_to_array(*get_position(path[n]),image.shape)\n",
    "#     pm[curr_pos] = 1\n",
    "    \n",
    "#     for x in range(3):\n",
    "#         img[:,:,x]=image[:,:,x]*pm\n",
    "\n",
    "#     ax.matshow(image, extent=[-k-1, k, -k-1, k])\n",
    "    \n",
    "#     plt.draw()\n",
    "\n",
    "# anim = animation.FuncAnimation(fig, update,interval=200,frames = len(path),blit=False)\n",
    "# plt.close()\n",
    "# anim.save('path.mp4',dpi=250,writer=FFMpegWriter(fps=60))"
   ]
  },
  {
   "cell_type": "code",
   "execution_count": null,
   "id": "e7f57c84",
   "metadata": {},
   "outputs": [],
   "source": [
    "from IPython.display import HTML\n",
    "HTML(anim.to_html5_video())"
   ]
  },
  {
   "cell_type": "code",
   "execution_count": 14,
   "id": "56b4e2d6",
   "metadata": {},
   "outputs": [],
   "source": [
    "from matplotlib import rc\n",
    "\n",
    "rc('animation',html = 'html5')"
   ]
  },
  {
   "cell_type": "code",
   "execution_count": 17,
   "id": "722afb3a",
   "metadata": {},
   "outputs": [
    {
     "name": "stdout",
     "output_type": "stream",
     "text": [
      "Exception reporting mode: Verbose\n"
     ]
    }
   ],
   "source": [
    "%xmode Verbose"
   ]
  },
  {
   "cell_type": "code",
   "execution_count": null,
   "id": "2054b803",
   "metadata": {
    "scrolled": true
   },
   "outputs": [],
   "source": [
    "anim"
   ]
  }
 ],
 "metadata": {
  "kernelspec": {
   "display_name": "Python [conda env:jupyter_env] *",
   "language": "python",
   "name": "conda-env-jupyter_env-py"
  },
  "language_info": {
   "codemirror_mode": {
    "name": "ipython",
    "version": 3
   },
   "file_extension": ".py",
   "mimetype": "text/x-python",
   "name": "python",
   "nbconvert_exporter": "python",
   "pygments_lexer": "ipython3",
   "version": "3.10.8"
  }
 },
 "nbformat": 4,
 "nbformat_minor": 5
}
